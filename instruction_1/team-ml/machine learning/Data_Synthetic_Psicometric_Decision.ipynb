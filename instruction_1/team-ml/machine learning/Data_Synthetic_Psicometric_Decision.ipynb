{
  "nbformat": 4,
  "nbformat_minor": 0,
  "metadata": {
    "colab": {
      "provenance": []
    },
    "kernelspec": {
      "name": "python3",
      "display_name": "Python 3"
    },
    "language_info": {
      "name": "python"
    }
  },
  "cells": [
    {
      "cell_type": "markdown",
      "source": [
        "# Projeto: Corrida Segura - Grupo Machine Learning"
      ],
      "metadata": {
        "id": "ipt3EcXp9FBV"
      }
    },
    {
      "cell_type": "markdown",
      "source": [
        "# Criação de DataSets Sinteticos. \n",
        "\n",
        "Para o correto entendimento do que segue, recomenda-se que o leitor percorra os links a seguir listados (em especial o primeiro):\n",
        "\n",
        "\n",
        "*   https://drive.google.com/file/d/1BXtPDDqO9lrOwm_7tj6wpxAyaFIQXrzQ/view?usp=sharing\n",
        "\n",
        "\n",
        "*   https://research.ibm.com/blog/what-is-synthetic-data\n",
        "\n",
        "\n",
        "*   https://datagen.tech/guides/synthetic-data/synthetic-data/\n",
        "\n",
        "\n",
        "*  https://www.turing.com/kb/synthetic-data-generation-techniques\n",
        "\n",
        "\n",
        "*   https://towardsdatascience.com/synthetic-data-generation-a-must-have-skill-for-new-data-scientists-915896c0c1ae\n",
        "\n",
        "\n",
        "*   https://www.youtube.com/watch?v=wJuCnYkrYLA\n",
        "\n",
        "\n",
        "*   https://www.v7labs.com/blog/synthetic-data-guide\n",
        "\n",
        "\n",
        "*   https://www.media.mit.edu/projects/domain-randomization-synthetic-data-auav/overview/\n",
        "\n",
        "*   https://news.mit.edu/2022/synthetic-data-ai-improvements-1103\n",
        "\n",
        "\n",
        "\n",
        "\n",
        "\n",
        "\n",
        "\n",
        "\n",
        "\n",
        "\n"
      ],
      "metadata": {
        "id": "nI5SCH_N8tTj"
      }
    },
    {
      "cell_type": "markdown",
      "source": [
        "# Teoria e Justificativa\n",
        "Os muitos métodos para a criação de dados sintéticos são intrincados e envolvem técnicas complexas que se propõem a simular, com certa precisão, os fenômenos do mundo real. Seu principal intuito é gerar um conjunto de dados diversificado para o treinamento de modelos de machine learning. justificam essa abordagem, as dificuldades em coletar dados reais de larga escala e a necessidade de mitigar vieses e desequilíbrios que possam afetar a eficácia do modelo em condições de produção. Nesse sentido, a criação de dados sintéticos se torna uma estratégia valiosa para reduzir a dependência de dados reais, o que pode ser especialmente relevante em domínios em que os dados são escassos ou sensíveis, como em medicina, finanças e cibersegurança.\n",
        "Levando em consideração as informações acima mencionadas, pode-se citar alguns dos métodos mais empregados:\n",
        "\n",
        "\n",
        "*   Redes Neurais Generativas (GANs): consistem em modelos que geram amostras sintéticas a partir de um conjunto de dados de treinamento, utilizando uma rede neural para gerar exemplos similares aos do conjunto de dados original.\n",
        "*   Simulação: consiste em criar um modelo que simula um ambiente ou processo, permitindo a geração de dados sintéticos que representam o comportamento do sistema em diferentes condições.\n",
        "\n",
        "\n",
        "*   Aprendizado por reforço: esta técnica consiste em gerar dados sintéticos a partir de agentes virtuais que aprendem a realizar tarefas em um ambiente simulado, gerando assim exemplos de comportamento em diferentes cenários. Pode ser entendida e explorada num contexto muito proximo ao da técnica anterior.\n",
        "*   Síntese baseada em contexto: técnica de geração de dados sintéticos que se baseia na ideia de que um exemplo sintético deve ser gerado não apenas com base nas características do conjunto de dados original, mas também levando em consideração o contexto em que o exemplo será utilizado.\n",
        "\n",
        "É com base nesta derradeira abordagem que nos basearemos para a elaboração do conjunto de dados sintéticos aqui contido. Possui, como principal vantagem, o fato de poder ser utilizada para gerar dados sintéticos mais diversificados e relevantes para a tarefa em questão, o que pode melhorar a eficácia do modelo final. No entanto, essa técnica também apresenta incertezas qualitativas e quantitativas assosciadas, como a necessidade de coletar informações relevantes sobre o contexto em que os exemplos serão utilizados. Tendo em vista essa dificuldade contextual, utilizou-se como base o dataset \"New York City Taxi Trip Duration\", disponível no link; https://www.kaggle.com/competitions/nyc-taxi-trip-duration/rules.\n",
        "\n",
        "\n",
        "\n"
      ],
      "metadata": {
        "id": "boKYezn088ep"
      }
    },
    {
      "cell_type": "markdown",
      "source": [
        "------------//------------"
      ],
      "metadata": {
        "id": "8iG85SOGC0fD"
      }
    },
    {
      "cell_type": "markdown",
      "source": [
        "# Google_Maps_Api"
      ],
      "metadata": {
        "id": "cUYBgl39Effy"
      }
    },
    {
      "cell_type": "markdown",
      "source": [
        "O dataset New York City Taxi Trip Duration, a partir de agora referido como df_nyc, não possui valores absolutos em relação as distâncias percorridas em cada corrida registrada; continha, entretando, as coordenadas geográficas dos pontos iniciais e finais de cada viagem. Dessa maneira, fez-se necessário integrar a api do google maps ao modelo aqui proposto.\n",
        "\n",
        "Segue abaixo o link de um vídeo tutorial que pode ser extremamente útil aos que desejarem entender mais sobre como solicitar uma api_key_google e utiliza-lá.\n",
        "\n",
        "\n",
        "\n",
        "*   https://www.youtube.com/watch?v=6bPxrkSPoK4\n",
        "\n",
        "\n",
        "\n"
      ],
      "metadata": {
        "id": "1B-CVZSzC82N"
      }
    },
    {
      "cell_type": "markdown",
      "source": [
        "\"pip install -U googlemaps\" é um comando instalação que utiliza o gerenciador de pacotes pip para instalar ou atualizar a biblioteca Google Maps na versão mais recente. Esta biblioteca, por sua vez, oferece uma série de funcionalidades relacionadas ao uso de mapas e localização geográfica. No ambiente de desenvolvimento Google Colaboratory o sinal de exclamação \"!\" é utilizado para indicar que um comando a ser executado não é um comando Python, mas sim um comando de terminal do sistema operacional do ambiente em que o Colaboratory está sendo executado.\n",
        "\n"
      ],
      "metadata": {
        "id": "UNERO6uQFQLz"
      }
    },
    {
      "cell_type": "code",
      "source": [
        "!pip install -U googlemaps"
      ],
      "metadata": {
        "colab": {
          "base_uri": "https://localhost:8080/"
        },
        "id": "IbIbD1gP149S",
        "outputId": "bad46d2f-836e-4c6c-b5d8-0a9ff75bdd23"
      },
      "execution_count": null,
      "outputs": [
        {
          "output_type": "stream",
          "name": "stdout",
          "text": [
            "Looking in indexes: https://pypi.org/simple, https://us-python.pkg.dev/colab-wheels/public/simple/\n",
            "Requirement already satisfied: googlemaps in /usr/local/lib/python3.9/dist-packages (4.10.0)\n",
            "Requirement already satisfied: requests<3.0,>=2.20.0 in /usr/local/lib/python3.9/dist-packages (from googlemaps) (2.27.1)\n",
            "Requirement already satisfied: charset-normalizer~=2.0.0 in /usr/local/lib/python3.9/dist-packages (from requests<3.0,>=2.20.0->googlemaps) (2.0.12)\n",
            "Requirement already satisfied: certifi>=2017.4.17 in /usr/local/lib/python3.9/dist-packages (from requests<3.0,>=2.20.0->googlemaps) (2022.12.7)\n",
            "Requirement already satisfied: idna<4,>=2.5 in /usr/local/lib/python3.9/dist-packages (from requests<3.0,>=2.20.0->googlemaps) (3.4)\n",
            "Requirement already satisfied: urllib3<1.27,>=1.21.1 in /usr/local/lib/python3.9/dist-packages (from requests<3.0,>=2.20.0->googlemaps) (1.26.15)\n"
          ]
        }
      ]
    },
    {
      "cell_type": "markdown",
      "source": [
        "Após instalar, importamos a biblioteca googlemaps em nosso script. Além dela importamos também a biblioteca datetime. Ambas as documentações seguem nos links abaixo.\n",
        " \n",
        "\n",
        "*   https://docs.python.org/3/library/datetime.html\n",
        "\n",
        "\n",
        "*   https://googlemaps.github.io/google-maps-services-python/docs/\n",
        "\n",
        "\n",
        "\n",
        "\n"
      ],
      "metadata": {
        "id": "jFGCV_-AGf6S"
      }
    },
    {
      "cell_type": "code",
      "source": [
        "import googlemaps\n",
        "from datetime import datetime"
      ],
      "metadata": {
        "id": "yf5KakTI19JL"
      },
      "execution_count": null,
      "outputs": []
    },
    {
      "cell_type": "code",
      "source": [
        "api_key = \"minha_api_key\""
      ],
      "metadata": {
        "id": "t8-2QfCS2DTl"
      },
      "execution_count": null,
      "outputs": []
    },
    {
      "cell_type": "markdown",
      "source": [
        "Outras bibliotecas são necessárias na construção da abordagem proposta. Suas respectivas documentações e alguns links úteis estão abaixo referenciadas.\n",
        "\n",
        "\n",
        "*   https://pandas.pydata.org/docs/\n",
        "*   https://numpy.org/doc/ \n",
        "\n",
        "*   https://docs.scipy.org/doc/scipy/\n",
        " \n",
        " *Outros Links úteis*\n",
        "\n",
        "\n",
        "*   https://harve.com.br/blog/programacao-python-blog/numpy-python-o-que-e-vantagens-e-tutorial-inicial/\n",
        "*   https://medium.com/data-hackers/uma-introdu%C3%A7%C3%A3o-simples-ao-pandas-1e15eea37fa1\n",
        "\n",
        "\n",
        "*   https://www.youtube.com/watch?v=jmX4FOUEfgU\n",
        "\n",
        "\n",
        "\n",
        "\n",
        "\n",
        "\n",
        "\n",
        "\n"
      ],
      "metadata": {
        "id": "8imqwHK6NH1O"
      }
    },
    {
      "cell_type": "code",
      "execution_count": null,
      "metadata": {
        "id": "OOPJE9tuTiFm"
      },
      "outputs": [],
      "source": [
        "import pandas as pd\n",
        "import numpy as np\n",
        "from scipy import stats"
      ]
    },
    {
      "cell_type": "markdown",
      "source": [
        "A função apresentada em seguir recebe como parâmetros um DataFrame com informações de viagens (latitude e longitude de origem e destino) e uma chave API do Google Maps. A função utiliza a biblioteca Google Maps para calcular a distância entre a origem e o destino de cada viagem do DataFrame, armazenando o resultado em uma nova coluna chamada \"distancia\".\n",
        "O cálculo da distância é feito atraves do loop FOR que itera sobre cada linha do DataFrame. Em cada iteração, a função utiliza a API do Google Maps para obter o melhor trajeto entre a origem e o destino da viagem, armazenando esse valor na coluna \"distancia\". Ao final, a função retorna o DataFrame com a coluna \"distancia\" preenchida com as distâncias calculadas para cada viagem."
      ],
      "metadata": {
        "id": "JpTTO7jJPEWW"
      }
    },
    {
      "cell_type": "code",
      "source": [
        "def calcular_distancia_viagens(df, api_key):\n",
        "    \n",
        "    gmaps = googlemaps.Client(key=api_key)   # inicializa o Google Maps com a chave API\n",
        "\n",
        "    \n",
        "    df[\"distancia\"] = 0 # cria uma nova coluna no DataFrame para armazenar a distância\n",
        "\n",
        "    # calculo da distância usando a API\n",
        "    for i, row in df.iterrows():\n",
        "        origem = (row[\"pickup_latitude\"], row[\"pickup_longitude\"])\n",
        "        destino = (row[\"dropoff_latitude\"], row[\"dropoff_longitude\"])\n",
        "        distancia = gmaps.distance_matrix(origem, destino)[\"rows\"][0][\"elements\"][0][\"distance\"][\"value\"]\n",
        "        df.at[i, \"distancia\"] = distancia\n",
        "\n",
        "    return df"
      ],
      "metadata": {
        "id": "zBwfpT552ITP"
      },
      "execution_count": null,
      "outputs": []
    },
    {
      "cell_type": "markdown",
      "source": [
        "A utilização do código acima tendo por input os dados do nyc_dataset_trip resulta em valores proximos do ideal, haja vista o contexto urbano (trajetos não lineares) da aplicação proposta. Após esse cálculo defini-se o data-set df_nyc através do . Note que o termo \"df\" é utilizado como padrão em dataframe do tipo pandas."
      ],
      "metadata": {
        "id": "iydJdv4b32Y4"
      }
    },
    {
      "cell_type": "markdown",
      "source": [
        "# Definindo o DataSet Base"
      ],
      "metadata": {
        "id": "RplZ8zK4US9u"
      }
    },
    {
      "cell_type": "code",
      "source": [
        "df_nyc = pd.read_csv('/content/data_distance_api_maps.csv')"
      ],
      "metadata": {
        "id": "DTW9qpDJUAyf"
      },
      "execution_count": null,
      "outputs": []
    },
    {
      "cell_type": "markdown",
      "source": [
        "\"pd.read_csv\" é uma função da biblioteca Pandas da lingaguem Python que permite ler e carregar dados a partir de um arquivo CSV (Comma-Separated Values) em um DataFrame do Pandas.\n",
        "CSV é um formato de arquivo que armazena dados em formato de tabela, em que cada linha representa um registro e cada coluna representa um campo."
      ],
      "metadata": {
        "id": "uQ3Dv4caQKBt"
      }
    },
    {
      "cell_type": "markdown",
      "source": [
        "A função .columns, no que concerne, retorna um objeto do tipo Index contendo os rótulos das colunas de um DataFrame."
      ],
      "metadata": {
        "id": "_saEsYtAQX14"
      }
    },
    {
      "cell_type": "code",
      "source": [
        "df_nyc.columns"
      ],
      "metadata": {
        "colab": {
          "base_uri": "https://localhost:8080/"
        },
        "id": "XBGXaZjnbhzy",
        "outputId": "8956db7f-1fd3-4930-a124-e7f385a1aecc"
      },
      "execution_count": null,
      "outputs": [
        {
          "output_type": "execute_result",
          "data": {
            "text/plain": [
              "Index(['id', 'vendor_id', 'pickup_datetime', 'dropoff_datetime',\n",
              "       'passenger_count', 'pickup_longitude', 'pickup_latitude',\n",
              "       'dropoff_longitude', 'dropoff_latitude', 'store_and_fwd_flag',\n",
              "       'trip_duration', 'distancia'],\n",
              "      dtype='object')"
            ]
          },
          "metadata": {},
          "execution_count": 9
        }
      ]
    },
    {
      "cell_type": "markdown",
      "source": [
        "A função \".head()\" é uma função do Pandas que é utilizada para exibir as primeiras linhas de um DataFrame. Por padrão, ela exibe as cinco primeiras linhas do DataFrame, mas é possível passar um parâmetro n para especificar o número de linhas a serem exibidas. \n",
        "Um exemplo do uso desse parâmetro segue:"
      ],
      "metadata": {
        "id": "cmyDD1K7Qyzw"
      }
    },
    {
      "cell_type": "code",
      "source": [
        "# import pandas as pd\n",
        "\n",
        "# df = pd.read_csv(\"dados.csv\")\n",
        "\n",
        "# primeiras_linhas = df.head(n=15)"
      ],
      "metadata": {
        "id": "lRdErmC6RXAd"
      },
      "execution_count": null,
      "outputs": []
    },
    {
      "cell_type": "code",
      "source": [
        "df_nyc.head()"
      ],
      "metadata": {
        "colab": {
          "base_uri": "https://localhost:8080/",
          "height": 357
        },
        "id": "caUCU3lWdzUc",
        "outputId": "4520f3bc-9c90-49b3-b63a-41b45a860db9"
      },
      "execution_count": null,
      "outputs": [
        {
          "output_type": "execute_result",
          "data": {
            "text/plain": [
              "          id  vendor_id      pickup_datetime     dropoff_datetime  \\\n",
              "0  id2875421        2.0  2016-03-14 17:24:55  2016-03-14 17:32:30   \n",
              "1  id2377394        1.0  2016-06-12 00:43:35  2016-06-12 00:54:38   \n",
              "2  id3858529        2.0  2016-01-19 11:35:24  2016-01-19 12:10:48   \n",
              "3  id3504673        2.0  2016-04-06 19:32:31  2016-04-06 19:39:40   \n",
              "4  id2181028        2.0  2016-03-26 13:30:55  2016-03-26 13:38:10   \n",
              "\n",
              "   passenger_count  pickup_longitude  pickup_latitude  dropoff_longitude  \\\n",
              "0              1.0        -73.982155        40.767937         -73.964630   \n",
              "1              1.0        -73.980415        40.738564         -73.999481   \n",
              "2              1.0        -73.979027        40.763939         -74.005333   \n",
              "3              1.0        -74.010040        40.719971         -74.012268   \n",
              "4              1.0        -73.973053        40.793209         -73.972923   \n",
              "\n",
              "   dropoff_latitude store_and_fwd_flag  trip_duration  distancia  \n",
              "0         40.765602                  N          455.0       2005  \n",
              "1         40.731152                  N          663.0       2515  \n",
              "2         40.710087                  N         2124.0       9740  \n",
              "3         40.706718                  N          429.0       1779  \n",
              "4         40.782520                  N          435.0       1607  "
            ],
            "text/html": [
              "\n",
              "  <div id=\"df-3ea83a66-f5e6-4b91-8942-8897063746a2\">\n",
              "    <div class=\"colab-df-container\">\n",
              "      <div>\n",
              "<style scoped>\n",
              "    .dataframe tbody tr th:only-of-type {\n",
              "        vertical-align: middle;\n",
              "    }\n",
              "\n",
              "    .dataframe tbody tr th {\n",
              "        vertical-align: top;\n",
              "    }\n",
              "\n",
              "    .dataframe thead th {\n",
              "        text-align: right;\n",
              "    }\n",
              "</style>\n",
              "<table border=\"1\" class=\"dataframe\">\n",
              "  <thead>\n",
              "    <tr style=\"text-align: right;\">\n",
              "      <th></th>\n",
              "      <th>id</th>\n",
              "      <th>vendor_id</th>\n",
              "      <th>pickup_datetime</th>\n",
              "      <th>dropoff_datetime</th>\n",
              "      <th>passenger_count</th>\n",
              "      <th>pickup_longitude</th>\n",
              "      <th>pickup_latitude</th>\n",
              "      <th>dropoff_longitude</th>\n",
              "      <th>dropoff_latitude</th>\n",
              "      <th>store_and_fwd_flag</th>\n",
              "      <th>trip_duration</th>\n",
              "      <th>distancia</th>\n",
              "    </tr>\n",
              "  </thead>\n",
              "  <tbody>\n",
              "    <tr>\n",
              "      <th>0</th>\n",
              "      <td>id2875421</td>\n",
              "      <td>2.0</td>\n",
              "      <td>2016-03-14 17:24:55</td>\n",
              "      <td>2016-03-14 17:32:30</td>\n",
              "      <td>1.0</td>\n",
              "      <td>-73.982155</td>\n",
              "      <td>40.767937</td>\n",
              "      <td>-73.964630</td>\n",
              "      <td>40.765602</td>\n",
              "      <td>N</td>\n",
              "      <td>455.0</td>\n",
              "      <td>2005</td>\n",
              "    </tr>\n",
              "    <tr>\n",
              "      <th>1</th>\n",
              "      <td>id2377394</td>\n",
              "      <td>1.0</td>\n",
              "      <td>2016-06-12 00:43:35</td>\n",
              "      <td>2016-06-12 00:54:38</td>\n",
              "      <td>1.0</td>\n",
              "      <td>-73.980415</td>\n",
              "      <td>40.738564</td>\n",
              "      <td>-73.999481</td>\n",
              "      <td>40.731152</td>\n",
              "      <td>N</td>\n",
              "      <td>663.0</td>\n",
              "      <td>2515</td>\n",
              "    </tr>\n",
              "    <tr>\n",
              "      <th>2</th>\n",
              "      <td>id3858529</td>\n",
              "      <td>2.0</td>\n",
              "      <td>2016-01-19 11:35:24</td>\n",
              "      <td>2016-01-19 12:10:48</td>\n",
              "      <td>1.0</td>\n",
              "      <td>-73.979027</td>\n",
              "      <td>40.763939</td>\n",
              "      <td>-74.005333</td>\n",
              "      <td>40.710087</td>\n",
              "      <td>N</td>\n",
              "      <td>2124.0</td>\n",
              "      <td>9740</td>\n",
              "    </tr>\n",
              "    <tr>\n",
              "      <th>3</th>\n",
              "      <td>id3504673</td>\n",
              "      <td>2.0</td>\n",
              "      <td>2016-04-06 19:32:31</td>\n",
              "      <td>2016-04-06 19:39:40</td>\n",
              "      <td>1.0</td>\n",
              "      <td>-74.010040</td>\n",
              "      <td>40.719971</td>\n",
              "      <td>-74.012268</td>\n",
              "      <td>40.706718</td>\n",
              "      <td>N</td>\n",
              "      <td>429.0</td>\n",
              "      <td>1779</td>\n",
              "    </tr>\n",
              "    <tr>\n",
              "      <th>4</th>\n",
              "      <td>id2181028</td>\n",
              "      <td>2.0</td>\n",
              "      <td>2016-03-26 13:30:55</td>\n",
              "      <td>2016-03-26 13:38:10</td>\n",
              "      <td>1.0</td>\n",
              "      <td>-73.973053</td>\n",
              "      <td>40.793209</td>\n",
              "      <td>-73.972923</td>\n",
              "      <td>40.782520</td>\n",
              "      <td>N</td>\n",
              "      <td>435.0</td>\n",
              "      <td>1607</td>\n",
              "    </tr>\n",
              "  </tbody>\n",
              "</table>\n",
              "</div>\n",
              "      <button class=\"colab-df-convert\" onclick=\"convertToInteractive('df-3ea83a66-f5e6-4b91-8942-8897063746a2')\"\n",
              "              title=\"Convert this dataframe to an interactive table.\"\n",
              "              style=\"display:none;\">\n",
              "        \n",
              "  <svg xmlns=\"http://www.w3.org/2000/svg\" height=\"24px\"viewBox=\"0 0 24 24\"\n",
              "       width=\"24px\">\n",
              "    <path d=\"M0 0h24v24H0V0z\" fill=\"none\"/>\n",
              "    <path d=\"M18.56 5.44l.94 2.06.94-2.06 2.06-.94-2.06-.94-.94-2.06-.94 2.06-2.06.94zm-11 1L8.5 8.5l.94-2.06 2.06-.94-2.06-.94L8.5 2.5l-.94 2.06-2.06.94zm10 10l.94 2.06.94-2.06 2.06-.94-2.06-.94-.94-2.06-.94 2.06-2.06.94z\"/><path d=\"M17.41 7.96l-1.37-1.37c-.4-.4-.92-.59-1.43-.59-.52 0-1.04.2-1.43.59L10.3 9.45l-7.72 7.72c-.78.78-.78 2.05 0 2.83L4 21.41c.39.39.9.59 1.41.59.51 0 1.02-.2 1.41-.59l7.78-7.78 2.81-2.81c.8-.78.8-2.07 0-2.86zM5.41 20L4 18.59l7.72-7.72 1.47 1.35L5.41 20z\"/>\n",
              "  </svg>\n",
              "      </button>\n",
              "      \n",
              "  <style>\n",
              "    .colab-df-container {\n",
              "      display:flex;\n",
              "      flex-wrap:wrap;\n",
              "      gap: 12px;\n",
              "    }\n",
              "\n",
              "    .colab-df-convert {\n",
              "      background-color: #E8F0FE;\n",
              "      border: none;\n",
              "      border-radius: 50%;\n",
              "      cursor: pointer;\n",
              "      display: none;\n",
              "      fill: #1967D2;\n",
              "      height: 32px;\n",
              "      padding: 0 0 0 0;\n",
              "      width: 32px;\n",
              "    }\n",
              "\n",
              "    .colab-df-convert:hover {\n",
              "      background-color: #E2EBFA;\n",
              "      box-shadow: 0px 1px 2px rgba(60, 64, 67, 0.3), 0px 1px 3px 1px rgba(60, 64, 67, 0.15);\n",
              "      fill: #174EA6;\n",
              "    }\n",
              "\n",
              "    [theme=dark] .colab-df-convert {\n",
              "      background-color: #3B4455;\n",
              "      fill: #D2E3FC;\n",
              "    }\n",
              "\n",
              "    [theme=dark] .colab-df-convert:hover {\n",
              "      background-color: #434B5C;\n",
              "      box-shadow: 0px 1px 3px 1px rgba(0, 0, 0, 0.15);\n",
              "      filter: drop-shadow(0px 1px 2px rgba(0, 0, 0, 0.3));\n",
              "      fill: #FFFFFF;\n",
              "    }\n",
              "  </style>\n",
              "\n",
              "      <script>\n",
              "        const buttonEl =\n",
              "          document.querySelector('#df-3ea83a66-f5e6-4b91-8942-8897063746a2 button.colab-df-convert');\n",
              "        buttonEl.style.display =\n",
              "          google.colab.kernel.accessAllowed ? 'block' : 'none';\n",
              "\n",
              "        async function convertToInteractive(key) {\n",
              "          const element = document.querySelector('#df-3ea83a66-f5e6-4b91-8942-8897063746a2');\n",
              "          const dataTable =\n",
              "            await google.colab.kernel.invokeFunction('convertToInteractive',\n",
              "                                                     [key], {});\n",
              "          if (!dataTable) return;\n",
              "\n",
              "          const docLinkHtml = 'Like what you see? Visit the ' +\n",
              "            '<a target=\"_blank\" href=https://colab.research.google.com/notebooks/data_table.ipynb>data table notebook</a>'\n",
              "            + ' to learn more about interactive tables.';\n",
              "          element.innerHTML = '';\n",
              "          dataTable['output_type'] = 'display_data';\n",
              "          await google.colab.output.renderOutput(dataTable, element);\n",
              "          const docLink = document.createElement('div');\n",
              "          docLink.innerHTML = docLinkHtml;\n",
              "          element.appendChild(docLink);\n",
              "        }\n",
              "      </script>\n",
              "    </div>\n",
              "  </div>\n",
              "  "
            ]
          },
          "metadata": {},
          "execution_count": 10
        }
      ]
    },
    {
      "cell_type": "markdown",
      "source": [
        "Abaixo fora criada a  função \"calculate_fare_amount\" que calcula a tarifa aproximada de uma viagem de táxi com base na distância percorrida e na duração da viagem. A tarifa é calculada adicionando uma taxa base de 5,0 u.m (unidade monetária) à distância percorrida multiplicada por um fator de 0,15 u.m  à duração da viagem multiplicada por um fator de 0,4 u.m por hora. O resultado final é a tarifa total da viagem."
      ],
      "metadata": {
        "id": "LN5zUJJSSOQX"
      }
    },
    {
      "cell_type": "code",
      "source": [
        "def calculate_fare_amount(distancia, trip_duration):                               #Função aproximada para a tarifa.\n",
        "    fare_amount = 5 + (distancia * 0.15) + (trip_duration * 0.4 *1/60)\n",
        "    return fare_amount"
      ],
      "metadata": {
        "id": "Swid9F3Nf9Ho"
      },
      "execution_count": null,
      "outputs": []
    },
    {
      "cell_type": "markdown",
      "source": [
        "A função \"df_nyc['fare_amount']\" adiciona uma nova coluna chamada \"fare_amount\" ao DataFrame \"df_nyc\". O valor da coluna é calculado para cada linha do DataFrame usando a função \"calculate_fare_amount\", que recebe como argumentos a distância percorrida e a duração da viagem de cada linha."
      ],
      "metadata": {
        "id": "AMT9DTkHSznb"
      }
    },
    {
      "cell_type": "code",
      "source": [
        "df_nyc['fare_amount'] = df_nyc.apply(lambda row: calculate_fare_amount(row['distancia'], row['trip_duration']), axis=1)"
      ],
      "metadata": {
        "id": "UO9hTbGEgneU"
      },
      "execution_count": null,
      "outputs": []
    },
    {
      "cell_type": "markdown",
      "source": [
        "A função \"apply\" é usada para aplicar a função \"calculate_fare_amount\" a cada linha do DataFrame \"df_nyc\". O parâmetro lambda, por sua vez, é uma ferramenta do Python para criar funções anônimas. Em outras palavras, o termo lambda é usado para criar funções simples em linha, sem a necessidade de declarar a função de forma explícita.\n",
        "O parâmetro lambda é definido usando a palavra-chave \"lambda\", seguida pelos parâmetros de entrada da função, seguidos por dois pontos e a expressão que define o comportamento da função, que nesse caso é obtido pela função calculate_fare_amount.\n",
        "Ou seja, nas linhas acima instanciamos a função calculate_fare_amount e adicionamos seu resultado aplicado a uma nova coluna do dataframe base."
      ],
      "metadata": {
        "id": "WVwaYkDgS1YP"
      }
    },
    {
      "cell_type": "markdown",
      "source": [
        "# Análise e Processamento do Dataset Base\n",
        "Nesta etapa, realizaremos a análise e processamento dos dados de viagens de táxi em Nova York com objetivo de prepara-los no contexto de geração dos dados sintéticos."
      ],
      "metadata": {
        "id": "DZdZnpLUVNmo"
      }
    },
    {
      "cell_type": "code",
      "source": [
        "df_nyc['pickup_datetime'] = pd.to_datetime(df_nyc['pickup_datetime'])  #Separa os dados da coluna pickup_datetime em data e hora e gera novas respectivas colunas.\n",
        "df_nyc['day_of_week'] = df_nyc['pickup_datetime'].dt.dayofweek\n",
        "df_nyc['hour'] = df_nyc['pickup_datetime'].dt.hour\n",
        "df_nyc.to_csv('nyc_taxi_trip_duration_datetime_updated.csv', index=False)"
      ],
      "metadata": {
        "id": "eHJOgaIAg97c"
      },
      "execution_count": null,
      "outputs": []
    },
    {
      "cell_type": "markdown",
      "source": [
        "\n",
        "\n",
        "1.   A primeira linha de código pd.to_datetime(df_nyc['pickup_datetime']) converte os valores da coluna pickup_datetime para um formato de data e hora, permitindo a manipulação desses dados.\n",
        "\n",
        "2.   A segunda linha de código df_nyc['pickup_datetime'].dt.dayofweek extrai o dia da semana correspondente a cada valor da coluna pickup_datetime e armazena o resultado em uma nova coluna chamada day_of_week.\n",
        "\n",
        "3.   A terceira linha, df_nyc['pickup_datetime'].dt.hour, extrai a hora correspondente a cada valor da coluna pickup_datetime e armazena o resultado em uma nova coluna chamada hour.\n",
        "\n",
        "4.   A quarta linha salva o dataframe atualizado em um arquivo csv com o nome nyc_taxi_trip_duration_datetime_updated.csv, sem incluir o índice do dataframe no arquivo de saída.\n",
        "\n",
        "\n",
        "\n"
      ],
      "metadata": {
        "id": "MUJQXxKYXOZ3"
      }
    },
    {
      "cell_type": "markdown",
      "source": [
        "O script abaixo realiza o cálculo de algumas estatísticas descritivas a partir do conjunto df_nyc."
      ],
      "metadata": {
        "id": "ldFBWGoWaTrA"
      }
    },
    {
      "cell_type": "code",
      "source": [
        "distancia_mean, distancia_std = df_nyc['distancia'].mean(), df_nyc['distancia'].std()\n",
        "valor_mean, valor_std = df_nyc['fare_amount'].mean(), df_nyc['fare_amount'].std()\n",
        "dia_da_semana_counts = df_nyc['day_of_week'].value_counts(normalize=True)\n",
        "hora_counts = df_nyc['hour'].value_counts(normalize=True)"
      ],
      "metadata": {
        "id": "sOCI_m0OXFr2"
      },
      "execution_count": null,
      "outputs": []
    },
    {
      "cell_type": "markdown",
      "source": [
        "\n",
        "\n",
        "1.   A primeira linha calcula a média e o desvio padrão da variável distancia e os armazena nas variáveis distancia_mean e distancia_std, consecutivamente.\n",
        "\n",
        "2.   A segunda linha, por sua vez, o mesmo para a variável fare_amount, armazenando a média e o desvio padrão nas variáveis valor_mean e valor_std, respectivamente.\n",
        "\n",
        "\n",
        "3.   A terceira linha utiliza o método value_counts() para calcular a contagem das ocorrências de cada valor na coluna day_of_week. O parâmetro normalize=True normaliza as contagens para que elas representem a proporção de cada valor em relação ao total de valores. \n",
        "\n",
        "4.   A quarta linha utiliza o mesmo método value_counts() para calcular a contagem das ocorrências de cada valor na coluna hour. Assim como na linha anterior, o parâmetro normalize=True é utilizado para normalizar as contagens.\n",
        "\n",
        "\n",
        "\n"
      ],
      "metadata": {
        "id": "Ra-PHcLmaKvG"
      }
    },
    {
      "cell_type": "markdown",
      "source": [
        "# Randômico e Determinístico?!?!"
      ],
      "metadata": {
        "id": "Vf9oIcdhfR8x"
      }
    },
    {
      "cell_type": "markdown",
      "source": [
        "*No coração do código,\n",
        "o aleatório é gerado,\n",
        "números surgem no vazio,\n",
        "em um mundo programado.*\n",
        "\n",
        "*No vácuo do destino,\n",
        "Há um mar de incertezas,\n",
        "Mas a Mente em seu ofício,\n",
        "Classifica leis e regras com firmeza.*"
      ],
      "metadata": {
        "id": "s9OzAcukcrvB"
      }
    },
    {
      "cell_type": "code",
      "source": [
        "distancias = np.random.normal(loc=distancia_mean, scale=distancia_std, size=10000)  # Gera os valores aleatórios para as variáveis do dataset sintético\n",
        "valor = np.random.normal(loc=valor_mean, scale=valor_std, size=10000)\n",
        "dia_da_semana = np.random.choice(dia_da_semana_counts.index, size=10000, p=dia_da_semana_counts.values)\n",
        "hora = np.random.choice(hora_counts.index, size=10000, p=hora_counts.values)"
      ],
      "metadata": {
        "id": "Kp1-0tXdYSZF"
      },
      "execution_count": null,
      "outputs": []
    },
    {
      "cell_type": "markdown",
      "source": [
        "O código acima é um dos motores principais para se gerar um conjunto de dados sintéticos que sigam as mesmas distribuições estatísticas do conjunto de dados base. Não atoa é referenciado como o *Coração* do script.\n",
        "\n",
        "\n",
        "1.   A primeira linha usa a função np.random.normal do módulo numpy para gerar 10.000 valores aleatórios para a variável distancias, que segue uma distribuição normal com média distancia_mean e desvio padrão distancia_std.\n",
        "\n",
        "2.   A segunda linha gera 10.000 valores aleatórios para a variável valor, também seguindo uma distribuição normal, com média valor_mean e desvio padrão valor_std.\n",
        "\n",
        "\n",
        "3.   Na terceira linha, a função np.random.choice é usada para gerar 10.000 valores para a variável dia_da_semana. Os valores possíveis são os índices do objeto dia_da_semana_counts.index, e a probabilidade de escolha de cada valor é dada pela lista de probabilidades dia_da_semana_counts.values. Isso garante que a amostra gerada tenha a mesma distribuição de frequências da variável original.\n",
        "\n",
        "4.   a quarta linha usa a mesma função np.random.choice para gerar 10.000 valores para a variável hora, usando o objeto hora_counts para definir as probabilidades de escolha de cada valor.\n",
        "\n",
        "\n",
        "\n",
        "**Caso necessário, para o melhor entendimento do conceito das distribuições estatísticas, seguem alguns links úteis:\n",
        "\n",
        "https://alkimia.tripod.com/estatistica/distribuicao_probabilidade.htm\n",
        "\n",
        "https://www.ibm.com/docs/pt-br/cognos-analytics/11.2.0?topic=terms-statistical-distribution\n",
        "\n",
        "https://sosestatistica.com.br/qual-distribuicao-devo-usar/\n",
        "\n",
        "\n",
        "\n",
        "\n",
        "\n",
        "\n",
        "\n"
      ],
      "metadata": {
        "id": "SVMtPAYOd3Mj"
      }
    },
    {
      "cell_type": "code",
      "source": [
        "espera_media = df_nyc.groupby(['day_of_week', 'hour']).agg({'distancia': 'mean'}).reset_index() # Calcula o tempo médio de espera por uma nova corrida para cada dia da semana e hora do dia\n",
        "espera_media['espera_media'] = espera_media['distancia'] / 0.17\n",
        "espera_media = espera_media.drop('distancia', axis=1)\n"
      ],
      "metadata": {
        "id": "miemD54HYa1L"
      },
      "execution_count": null,
      "outputs": []
    },
    {
      "cell_type": "markdown",
      "source": [
        "O código acima realiza o cálculo da espera média para uma nova corrida em cada dia da semana e hora do dia, com base na distância média percorrida em corridas anteriores.\n",
        "O primeiro passo é agrupar os dados do dataframe df_nyc por dia da semana e hora do dia, usando o método groupby(). Em seguida, aplica-se o método agg() para calcular a média da coluna distancia em cada grupo formado. O resultado é um novo dataframe chamado espera_media contendo as colunas 'day_of_week', 'hour' e 'distancia'.\n",
        "Para obter a espera média em minutos, divide-se a distância média por 0.17, que é a velocidade média estimada de um táxi em Nova York. O valor 0.17 é baseado na suposição de que a velocidade média de um táxi em Nova York é de 20 milhas por hora (32,19 km/h). Portanto, a distância média de 0,17 milhas (ou 0,274 km) percorrida por minuto é obtida ao dividir a velocidade média pela duração média de uma corrida.\n",
        "Ainda que a suposição acima possa soar excessivamente empírica, utiliza-se para essa determinação o artigo \"Nova York: 40 km/hora em toda a cidade!\", que pode ser encontrado no link https://www.mobilize.org.br/noticias/7151/nova-york-40-kmhora-em-toda-a-cidade.html."
      ],
      "metadata": {
        "id": "-WtCswE7mueP"
      }
    },
    {
      "cell_type": "code",
      "source": [
        "valor_media = df_nyc.groupby('distancia').agg({'fare_amount': 'mean'}).reset_index()  # Calcula a média de valor de corrida para cada distância\n"
      ],
      "metadata": {
        "id": "-E_HxsMXYgg5"
      },
      "execution_count": null,
      "outputs": []
    },
    {
      "cell_type": "markdown",
      "source": [
        "O código acima utiliza o método groupby() do Pandas para agrupar os dados do dataframe df_nyc pela coluna 'distancia'. Em seguida, a média dos valores de corrida para cada distância é calculada usando o método agg() com o parâmetro 'mean'.\n",
        "\n",
        "Para melhor entendimento do método groupby(), acesse a documentação: https://pandas.pydata.org/docs/reference/api/pandas.DataFrame.groupby.html"
      ],
      "metadata": {
        "id": "VklF5ZRfoRH7"
      }
    },
    {
      "cell_type": "code",
      "source": [
        "df_nyc.head()"
      ],
      "metadata": {
        "colab": {
          "base_uri": "https://localhost:8080/",
          "height": 357
        },
        "id": "UDoc5CsLowvB",
        "outputId": "00cb756f-d82b-4892-c90c-2eda11e350e1"
      },
      "execution_count": null,
      "outputs": [
        {
          "output_type": "execute_result",
          "data": {
            "text/plain": [
              "          id  vendor_id     pickup_datetime     dropoff_datetime  \\\n",
              "0  id2875421        2.0 2016-03-14 17:24:55  2016-03-14 17:32:30   \n",
              "1  id2377394        1.0 2016-06-12 00:43:35  2016-06-12 00:54:38   \n",
              "2  id3858529        2.0 2016-01-19 11:35:24  2016-01-19 12:10:48   \n",
              "3  id3504673        2.0 2016-04-06 19:32:31  2016-04-06 19:39:40   \n",
              "4  id2181028        2.0 2016-03-26 13:30:55  2016-03-26 13:38:10   \n",
              "\n",
              "   passenger_count  pickup_longitude  pickup_latitude  dropoff_longitude  \\\n",
              "0              1.0        -73.982155        40.767937         -73.964630   \n",
              "1              1.0        -73.980415        40.738564         -73.999481   \n",
              "2              1.0        -73.979027        40.763939         -74.005333   \n",
              "3              1.0        -74.010040        40.719971         -74.012268   \n",
              "4              1.0        -73.973053        40.793209         -73.972923   \n",
              "\n",
              "   dropoff_latitude store_and_fwd_flag  trip_duration  distancia  fare_amount  \\\n",
              "0         40.765602                  N          455.0       2005   308.783333   \n",
              "1         40.731152                  N          663.0       2515   386.670000   \n",
              "2         40.710087                  N         2124.0       9740  1480.160000   \n",
              "3         40.706718                  N          429.0       1779   274.710000   \n",
              "4         40.782520                  N          435.0       1607   248.950000   \n",
              "\n",
              "   day_of_week  hour  \n",
              "0          0.0  17.0  \n",
              "1          6.0   0.0  \n",
              "2          1.0  11.0  \n",
              "3          2.0  19.0  \n",
              "4          5.0  13.0  "
            ],
            "text/html": [
              "\n",
              "  <div id=\"df-318ba692-17e9-4787-b161-7cc17d2de44a\">\n",
              "    <div class=\"colab-df-container\">\n",
              "      <div>\n",
              "<style scoped>\n",
              "    .dataframe tbody tr th:only-of-type {\n",
              "        vertical-align: middle;\n",
              "    }\n",
              "\n",
              "    .dataframe tbody tr th {\n",
              "        vertical-align: top;\n",
              "    }\n",
              "\n",
              "    .dataframe thead th {\n",
              "        text-align: right;\n",
              "    }\n",
              "</style>\n",
              "<table border=\"1\" class=\"dataframe\">\n",
              "  <thead>\n",
              "    <tr style=\"text-align: right;\">\n",
              "      <th></th>\n",
              "      <th>id</th>\n",
              "      <th>vendor_id</th>\n",
              "      <th>pickup_datetime</th>\n",
              "      <th>dropoff_datetime</th>\n",
              "      <th>passenger_count</th>\n",
              "      <th>pickup_longitude</th>\n",
              "      <th>pickup_latitude</th>\n",
              "      <th>dropoff_longitude</th>\n",
              "      <th>dropoff_latitude</th>\n",
              "      <th>store_and_fwd_flag</th>\n",
              "      <th>trip_duration</th>\n",
              "      <th>distancia</th>\n",
              "      <th>fare_amount</th>\n",
              "      <th>day_of_week</th>\n",
              "      <th>hour</th>\n",
              "    </tr>\n",
              "  </thead>\n",
              "  <tbody>\n",
              "    <tr>\n",
              "      <th>0</th>\n",
              "      <td>id2875421</td>\n",
              "      <td>2.0</td>\n",
              "      <td>2016-03-14 17:24:55</td>\n",
              "      <td>2016-03-14 17:32:30</td>\n",
              "      <td>1.0</td>\n",
              "      <td>-73.982155</td>\n",
              "      <td>40.767937</td>\n",
              "      <td>-73.964630</td>\n",
              "      <td>40.765602</td>\n",
              "      <td>N</td>\n",
              "      <td>455.0</td>\n",
              "      <td>2005</td>\n",
              "      <td>308.783333</td>\n",
              "      <td>0.0</td>\n",
              "      <td>17.0</td>\n",
              "    </tr>\n",
              "    <tr>\n",
              "      <th>1</th>\n",
              "      <td>id2377394</td>\n",
              "      <td>1.0</td>\n",
              "      <td>2016-06-12 00:43:35</td>\n",
              "      <td>2016-06-12 00:54:38</td>\n",
              "      <td>1.0</td>\n",
              "      <td>-73.980415</td>\n",
              "      <td>40.738564</td>\n",
              "      <td>-73.999481</td>\n",
              "      <td>40.731152</td>\n",
              "      <td>N</td>\n",
              "      <td>663.0</td>\n",
              "      <td>2515</td>\n",
              "      <td>386.670000</td>\n",
              "      <td>6.0</td>\n",
              "      <td>0.0</td>\n",
              "    </tr>\n",
              "    <tr>\n",
              "      <th>2</th>\n",
              "      <td>id3858529</td>\n",
              "      <td>2.0</td>\n",
              "      <td>2016-01-19 11:35:24</td>\n",
              "      <td>2016-01-19 12:10:48</td>\n",
              "      <td>1.0</td>\n",
              "      <td>-73.979027</td>\n",
              "      <td>40.763939</td>\n",
              "      <td>-74.005333</td>\n",
              "      <td>40.710087</td>\n",
              "      <td>N</td>\n",
              "      <td>2124.0</td>\n",
              "      <td>9740</td>\n",
              "      <td>1480.160000</td>\n",
              "      <td>1.0</td>\n",
              "      <td>11.0</td>\n",
              "    </tr>\n",
              "    <tr>\n",
              "      <th>3</th>\n",
              "      <td>id3504673</td>\n",
              "      <td>2.0</td>\n",
              "      <td>2016-04-06 19:32:31</td>\n",
              "      <td>2016-04-06 19:39:40</td>\n",
              "      <td>1.0</td>\n",
              "      <td>-74.010040</td>\n",
              "      <td>40.719971</td>\n",
              "      <td>-74.012268</td>\n",
              "      <td>40.706718</td>\n",
              "      <td>N</td>\n",
              "      <td>429.0</td>\n",
              "      <td>1779</td>\n",
              "      <td>274.710000</td>\n",
              "      <td>2.0</td>\n",
              "      <td>19.0</td>\n",
              "    </tr>\n",
              "    <tr>\n",
              "      <th>4</th>\n",
              "      <td>id2181028</td>\n",
              "      <td>2.0</td>\n",
              "      <td>2016-03-26 13:30:55</td>\n",
              "      <td>2016-03-26 13:38:10</td>\n",
              "      <td>1.0</td>\n",
              "      <td>-73.973053</td>\n",
              "      <td>40.793209</td>\n",
              "      <td>-73.972923</td>\n",
              "      <td>40.782520</td>\n",
              "      <td>N</td>\n",
              "      <td>435.0</td>\n",
              "      <td>1607</td>\n",
              "      <td>248.950000</td>\n",
              "      <td>5.0</td>\n",
              "      <td>13.0</td>\n",
              "    </tr>\n",
              "  </tbody>\n",
              "</table>\n",
              "</div>\n",
              "      <button class=\"colab-df-convert\" onclick=\"convertToInteractive('df-318ba692-17e9-4787-b161-7cc17d2de44a')\"\n",
              "              title=\"Convert this dataframe to an interactive table.\"\n",
              "              style=\"display:none;\">\n",
              "        \n",
              "  <svg xmlns=\"http://www.w3.org/2000/svg\" height=\"24px\"viewBox=\"0 0 24 24\"\n",
              "       width=\"24px\">\n",
              "    <path d=\"M0 0h24v24H0V0z\" fill=\"none\"/>\n",
              "    <path d=\"M18.56 5.44l.94 2.06.94-2.06 2.06-.94-2.06-.94-.94-2.06-.94 2.06-2.06.94zm-11 1L8.5 8.5l.94-2.06 2.06-.94-2.06-.94L8.5 2.5l-.94 2.06-2.06.94zm10 10l.94 2.06.94-2.06 2.06-.94-2.06-.94-.94-2.06-.94 2.06-2.06.94z\"/><path d=\"M17.41 7.96l-1.37-1.37c-.4-.4-.92-.59-1.43-.59-.52 0-1.04.2-1.43.59L10.3 9.45l-7.72 7.72c-.78.78-.78 2.05 0 2.83L4 21.41c.39.39.9.59 1.41.59.51 0 1.02-.2 1.41-.59l7.78-7.78 2.81-2.81c.8-.78.8-2.07 0-2.86zM5.41 20L4 18.59l7.72-7.72 1.47 1.35L5.41 20z\"/>\n",
              "  </svg>\n",
              "      </button>\n",
              "      \n",
              "  <style>\n",
              "    .colab-df-container {\n",
              "      display:flex;\n",
              "      flex-wrap:wrap;\n",
              "      gap: 12px;\n",
              "    }\n",
              "\n",
              "    .colab-df-convert {\n",
              "      background-color: #E8F0FE;\n",
              "      border: none;\n",
              "      border-radius: 50%;\n",
              "      cursor: pointer;\n",
              "      display: none;\n",
              "      fill: #1967D2;\n",
              "      height: 32px;\n",
              "      padding: 0 0 0 0;\n",
              "      width: 32px;\n",
              "    }\n",
              "\n",
              "    .colab-df-convert:hover {\n",
              "      background-color: #E2EBFA;\n",
              "      box-shadow: 0px 1px 2px rgba(60, 64, 67, 0.3), 0px 1px 3px 1px rgba(60, 64, 67, 0.15);\n",
              "      fill: #174EA6;\n",
              "    }\n",
              "\n",
              "    [theme=dark] .colab-df-convert {\n",
              "      background-color: #3B4455;\n",
              "      fill: #D2E3FC;\n",
              "    }\n",
              "\n",
              "    [theme=dark] .colab-df-convert:hover {\n",
              "      background-color: #434B5C;\n",
              "      box-shadow: 0px 1px 3px 1px rgba(0, 0, 0, 0.15);\n",
              "      filter: drop-shadow(0px 1px 2px rgba(0, 0, 0, 0.3));\n",
              "      fill: #FFFFFF;\n",
              "    }\n",
              "  </style>\n",
              "\n",
              "      <script>\n",
              "        const buttonEl =\n",
              "          document.querySelector('#df-318ba692-17e9-4787-b161-7cc17d2de44a button.colab-df-convert');\n",
              "        buttonEl.style.display =\n",
              "          google.colab.kernel.accessAllowed ? 'block' : 'none';\n",
              "\n",
              "        async function convertToInteractive(key) {\n",
              "          const element = document.querySelector('#df-318ba692-17e9-4787-b161-7cc17d2de44a');\n",
              "          const dataTable =\n",
              "            await google.colab.kernel.invokeFunction('convertToInteractive',\n",
              "                                                     [key], {});\n",
              "          if (!dataTable) return;\n",
              "\n",
              "          const docLinkHtml = 'Like what you see? Visit the ' +\n",
              "            '<a target=\"_blank\" href=https://colab.research.google.com/notebooks/data_table.ipynb>data table notebook</a>'\n",
              "            + ' to learn more about interactive tables.';\n",
              "          element.innerHTML = '';\n",
              "          dataTable['output_type'] = 'display_data';\n",
              "          await google.colab.output.renderOutput(dataTable, element);\n",
              "          const docLink = document.createElement('div');\n",
              "          docLink.innerHTML = docLinkHtml;\n",
              "          element.appendChild(docLink);\n",
              "        }\n",
              "      </script>\n",
              "    </div>\n",
              "  </div>\n",
              "  "
            ]
          },
          "metadata": {},
          "execution_count": 61
        }
      ]
    },
    {
      "cell_type": "markdown",
      "source": [
        "# Custo de Oportunidade - Psicométria do Fator de Decisão\n",
        "\n",
        "Segundo Rafaela Bragança ( 2016, Avaliação psicométrica de um instrumento para mensuração de autoeficácia, p. 003 ) \"A Psicometria é uma área da Psicologia que se caracteriza por expor fenômenos psicológicos ou construtos através de números, que são mensurados por meio da aplicação de\n",
        "conhecimentos estatísticos e matemáticos a esse âmbito. Um construto relevante dentro\n",
        "da Psicometria, a autoeficácia se caracteriza como a crença do ser humano quanto á sua\n",
        "capacidade de realizar com sucesso determinada tarefa.\"                \n",
        "O uso do fator Custo de Oportunidade é justificado por ser uma medida subjetiva que considera as opções que foram deixadas de lado. No projeto em questão, o Custo de Oportunidade é usado para determinar se a corrida é aceita ou não. Uma feature de comportamento booleano \"aceita corrida\"/\"não aceita\" é fundamental para um software de automação das seleções de corrida."
      ],
      "metadata": {
        "id": "6EvP5D0VomUk"
      }
    },
    {
      "cell_type": "code",
      "source": [
        "custo_oportunidade = []\n",
        "for i in range(10000):\n",
        "    media_valor = valor_media.loc[valor_media['distancia'] == distancias[i], 'fare_amount'].values\n",
        "    if len(media_valor) == 0:\n",
        "        media_valor = valor.mean()             # Calcula o custo de oportunidade de cada viagem\n",
        "    else:\n",
        "        media_valor = media_valor[0]\n",
        "    espera = espera_media.loc[(espera_media['day_of_week'] == dia_da_semana[i]) & (espera_media['hour'] == hora[i]), 'espera_media'].values\n",
        "    if len(espera) == 0:\n",
        "        espera = espera_media['espera_media'].mean()\n",
        "    else:\n",
        "        espera = espera[0]\n",
        "    custo_oportunidade.append(media_valor * espera)\n",
        "    "
      ],
      "metadata": {
        "id": "pItpCeFQZC8A"
      },
      "execution_count": null,
      "outputs": []
    },
    {
      "cell_type": "markdown",
      "source": [
        "O código acima tem como objetivo calcular o custo de oportunidade de cada viagem no dataset sintético gerado anteriormente. Para cada uma das 10.000 viagens sintéticas. \n",
        "Primeiro, é obtida a distância da viagem a partir do dataset gerado.\n",
        "A partir da distância, é buscada no dataset \"valor_media\" a média de \n",
        "valor de corrida para essa distância específica. Se não houver um valor específico para essa distância, é utilizado o valor médio geral.\n",
        "Em seguida, é buscada no dataset \"espera_media\" a média de tempo de espera por uma nova corrida para o dia da semana e hora específicos da viagem. Se não houver um valor específico para esse dia e hora, é utilizado o valor médio geral.\n",
        "O custo de oportunidade é então calculado multiplicando a média de valor de corrida pela média de tempo de espera.\n",
        "O custo de oportunidade é adicionado a uma lista chamada \"custo_oportunidade\"."
      ],
      "metadata": {
        "id": "Ltg969YktW_r"
      }
    },
    {
      "cell_type": "markdown",
      "source": [
        "# Criaçao do dataset sintetico.\n",
        "*Seguindo os tijolos amarelos,\n",
        "cada passo foi dado com afinco,\n",
        "e agora, perto do fim da jornada,\n",
        "é possível vislumbrar o longínquo produto.*"
      ],
      "metadata": {
        "id": "BOtwKB0p0t_y"
      }
    },
    {
      "cell_type": "code",
      "source": [
        "df_sintetico = pd.DataFrame({\n",
        "    'distancia': distancias,\n",
        "    'valor': valor,\n",
        "    'dia_da_semana': dia_da_semana,\n",
        "    'hora': hora,\n",
        "    'custo_oportunidade': custo_oportunidade \n",
        "})  "
      ],
      "metadata": {
        "id": "OJrbmZPUZNdk"
      },
      "execution_count": null,
      "outputs": []
    },
    {
      "cell_type": "markdown",
      "source": [
        "O código acima cria um DataFrame chamado \"df_sintetico\" com cinco colunas: \"distancia\", \"valor\", \"dia_da_semana\", \"hora\" e \"custo_oportunidade\". As colunas são preenchidas com os arrays gerados anteriormente: \"distancias\", \"valor\", \"dia_da_semana\", \"hora\" e \"custo_oportunidade\". Esse DataFrame é criado para consolidar todos os dados sintéticos gerados e ser utilizado em análises posteriores."
      ],
      "metadata": {
        "id": "Xrvp9SKnyZr6"
      }
    },
    {
      "cell_type": "code",
      "source": [
        "df_sintetico.head()"
      ],
      "metadata": {
        "colab": {
          "base_uri": "https://localhost:8080/",
          "height": 206
        },
        "id": "-aMI2ngrqVeI",
        "outputId": "afb1ebcb-3b07-4805-c148-1f976e4ead62"
      },
      "execution_count": null,
      "outputs": [
        {
          "output_type": "execute_result",
          "data": {
            "text/plain": [
              "     distancia       valor  dia_da_semana  hora  custo_oportunidade\n",
              "0     9.633430  234.911353            2.0   6.0        28869.731218\n",
              "1  -251.431724  178.516224            4.0  19.0        19707.095177\n",
              "2  -377.606184   39.574248            1.0  21.0        24294.760411\n",
              "3  -536.806868  225.694308            3.0  21.0        23014.312388\n",
              "4 -2241.577792  251.389228            0.0   0.0        32242.731764"
            ],
            "text/html": [
              "\n",
              "  <div id=\"df-3670fd77-b531-4543-a37d-64d3791a8c3f\">\n",
              "    <div class=\"colab-df-container\">\n",
              "      <div>\n",
              "<style scoped>\n",
              "    .dataframe tbody tr th:only-of-type {\n",
              "        vertical-align: middle;\n",
              "    }\n",
              "\n",
              "    .dataframe tbody tr th {\n",
              "        vertical-align: top;\n",
              "    }\n",
              "\n",
              "    .dataframe thead th {\n",
              "        text-align: right;\n",
              "    }\n",
              "</style>\n",
              "<table border=\"1\" class=\"dataframe\">\n",
              "  <thead>\n",
              "    <tr style=\"text-align: right;\">\n",
              "      <th></th>\n",
              "      <th>distancia</th>\n",
              "      <th>valor</th>\n",
              "      <th>dia_da_semana</th>\n",
              "      <th>hora</th>\n",
              "      <th>custo_oportunidade</th>\n",
              "    </tr>\n",
              "  </thead>\n",
              "  <tbody>\n",
              "    <tr>\n",
              "      <th>0</th>\n",
              "      <td>9.633430</td>\n",
              "      <td>234.911353</td>\n",
              "      <td>2.0</td>\n",
              "      <td>6.0</td>\n",
              "      <td>28869.731218</td>\n",
              "    </tr>\n",
              "    <tr>\n",
              "      <th>1</th>\n",
              "      <td>-251.431724</td>\n",
              "      <td>178.516224</td>\n",
              "      <td>4.0</td>\n",
              "      <td>19.0</td>\n",
              "      <td>19707.095177</td>\n",
              "    </tr>\n",
              "    <tr>\n",
              "      <th>2</th>\n",
              "      <td>-377.606184</td>\n",
              "      <td>39.574248</td>\n",
              "      <td>1.0</td>\n",
              "      <td>21.0</td>\n",
              "      <td>24294.760411</td>\n",
              "    </tr>\n",
              "    <tr>\n",
              "      <th>3</th>\n",
              "      <td>-536.806868</td>\n",
              "      <td>225.694308</td>\n",
              "      <td>3.0</td>\n",
              "      <td>21.0</td>\n",
              "      <td>23014.312388</td>\n",
              "    </tr>\n",
              "    <tr>\n",
              "      <th>4</th>\n",
              "      <td>-2241.577792</td>\n",
              "      <td>251.389228</td>\n",
              "      <td>0.0</td>\n",
              "      <td>0.0</td>\n",
              "      <td>32242.731764</td>\n",
              "    </tr>\n",
              "  </tbody>\n",
              "</table>\n",
              "</div>\n",
              "      <button class=\"colab-df-convert\" onclick=\"convertToInteractive('df-3670fd77-b531-4543-a37d-64d3791a8c3f')\"\n",
              "              title=\"Convert this dataframe to an interactive table.\"\n",
              "              style=\"display:none;\">\n",
              "        \n",
              "  <svg xmlns=\"http://www.w3.org/2000/svg\" height=\"24px\"viewBox=\"0 0 24 24\"\n",
              "       width=\"24px\">\n",
              "    <path d=\"M0 0h24v24H0V0z\" fill=\"none\"/>\n",
              "    <path d=\"M18.56 5.44l.94 2.06.94-2.06 2.06-.94-2.06-.94-.94-2.06-.94 2.06-2.06.94zm-11 1L8.5 8.5l.94-2.06 2.06-.94-2.06-.94L8.5 2.5l-.94 2.06-2.06.94zm10 10l.94 2.06.94-2.06 2.06-.94-2.06-.94-.94-2.06-.94 2.06-2.06.94z\"/><path d=\"M17.41 7.96l-1.37-1.37c-.4-.4-.92-.59-1.43-.59-.52 0-1.04.2-1.43.59L10.3 9.45l-7.72 7.72c-.78.78-.78 2.05 0 2.83L4 21.41c.39.39.9.59 1.41.59.51 0 1.02-.2 1.41-.59l7.78-7.78 2.81-2.81c.8-.78.8-2.07 0-2.86zM5.41 20L4 18.59l7.72-7.72 1.47 1.35L5.41 20z\"/>\n",
              "  </svg>\n",
              "      </button>\n",
              "      \n",
              "  <style>\n",
              "    .colab-df-container {\n",
              "      display:flex;\n",
              "      flex-wrap:wrap;\n",
              "      gap: 12px;\n",
              "    }\n",
              "\n",
              "    .colab-df-convert {\n",
              "      background-color: #E8F0FE;\n",
              "      border: none;\n",
              "      border-radius: 50%;\n",
              "      cursor: pointer;\n",
              "      display: none;\n",
              "      fill: #1967D2;\n",
              "      height: 32px;\n",
              "      padding: 0 0 0 0;\n",
              "      width: 32px;\n",
              "    }\n",
              "\n",
              "    .colab-df-convert:hover {\n",
              "      background-color: #E2EBFA;\n",
              "      box-shadow: 0px 1px 2px rgba(60, 64, 67, 0.3), 0px 1px 3px 1px rgba(60, 64, 67, 0.15);\n",
              "      fill: #174EA6;\n",
              "    }\n",
              "\n",
              "    [theme=dark] .colab-df-convert {\n",
              "      background-color: #3B4455;\n",
              "      fill: #D2E3FC;\n",
              "    }\n",
              "\n",
              "    [theme=dark] .colab-df-convert:hover {\n",
              "      background-color: #434B5C;\n",
              "      box-shadow: 0px 1px 3px 1px rgba(0, 0, 0, 0.15);\n",
              "      filter: drop-shadow(0px 1px 2px rgba(0, 0, 0, 0.3));\n",
              "      fill: #FFFFFF;\n",
              "    }\n",
              "  </style>\n",
              "\n",
              "      <script>\n",
              "        const buttonEl =\n",
              "          document.querySelector('#df-3670fd77-b531-4543-a37d-64d3791a8c3f button.colab-df-convert');\n",
              "        buttonEl.style.display =\n",
              "          google.colab.kernel.accessAllowed ? 'block' : 'none';\n",
              "\n",
              "        async function convertToInteractive(key) {\n",
              "          const element = document.querySelector('#df-3670fd77-b531-4543-a37d-64d3791a8c3f');\n",
              "          const dataTable =\n",
              "            await google.colab.kernel.invokeFunction('convertToInteractive',\n",
              "                                                     [key], {});\n",
              "          if (!dataTable) return;\n",
              "\n",
              "          const docLinkHtml = 'Like what you see? Visit the ' +\n",
              "            '<a target=\"_blank\" href=https://colab.research.google.com/notebooks/data_table.ipynb>data table notebook</a>'\n",
              "            + ' to learn more about interactive tables.';\n",
              "          element.innerHTML = '';\n",
              "          dataTable['output_type'] = 'display_data';\n",
              "          await google.colab.output.renderOutput(dataTable, element);\n",
              "          const docLink = document.createElement('div');\n",
              "          docLink.innerHTML = docLinkHtml;\n",
              "          element.appendChild(docLink);\n",
              "        }\n",
              "      </script>\n",
              "    </div>\n",
              "  </div>\n",
              "  "
            ]
          },
          "metadata": {},
          "execution_count": 64
        }
      ]
    },
    {
      "cell_type": "markdown",
      "source": [
        "#Normalização dos dados contidos no dataset sintetico.\n",
        "\n",
        "Normalização de dados é o processo formal e passo a passo que examina os atributos de uma entidade, com o objetivo de evitar anomalias observadas na inclusão, exclusão e alteração de registros.\n",
        "Tal procedimento em um conjunto sintético é importante para garantir que os valores das variáveis estejam na mesma escala, evitando distorções nos resultados finais das análises. Além disso, a normalização pode ajudar a reduzir a redundância de informações e melhorar a eficiência computacional."
      ],
      "metadata": {
        "id": "0rFTDeYBrRQH"
      }
    },
    {
      "cell_type": "code",
      "source": [
        "from sklearn.preprocessing import MinMaxScaler\n",
        "scaler = MinMaxScaler()\n",
        "df_sintetico[['custo_oportunidade', 'valor']] = scaler.fit_transform(df_sintetico[['custo_oportunidade', 'valor']])"
      ],
      "metadata": {
        "id": "0F-QfT1oqzMM"
      },
      "execution_count": null,
      "outputs": []
    },
    {
      "cell_type": "markdown",
      "source": [
        "Função que define a coluna aceita_viagem com base na teoria da decisão racional. A função chamada aceita_viagem_racional recebe como entrada as variáveis distancia, valor, dia_da_semana, hora e custo_oportunidade.Tem como objetivo determinar se uma viagem será aceita ou não pelo motorista."
      ],
      "metadata": {
        "id": "toc_d7qD0n1f"
      }
    },
    {
      "cell_type": "code",
      "source": [
        "def aceita_viagem_racional(distancia, valor, dia_da_semana, hora, custo_oportunidade):\n",
        "    custo_real = valor - custo_oportunidade\n",
        "    aceita = (custo_real > 0)\n",
        "    return aceita.astype(int)"
      ],
      "metadata": {
        "id": "VdsbMoA_ZWae"
      },
      "execution_count": null,
      "outputs": []
    },
    {
      "cell_type": "markdown",
      "source": [
        "A primeira linha da função calcula o custo real da viagem, subtraindo o custo de oportunidade do valor da corrida. Em seguida, na segunda linha, é definida a variável aceita que recebe o valor booleano True se o custo real for maior do que zero, ou False caso contrário.\n",
        "Ao final, na terceira linha, a função retorna a variável aceita como um inteiro, sendo 1 caso seja True e 0 caso seja False, utilizando o método astype(int) para converter o tipo da variável."
      ],
      "metadata": {
        "id": "2tgb12xe0xGG"
      }
    },
    {
      "cell_type": "code",
      "source": [
        "df_sintetico['aceita_viagem'] = aceita_viagem_racional(df_sintetico['distancia'], df_sintetico['valor'], df_sintetico['dia_da_semana'], df_sintetico['hora'], df_sintetico['custo_oportunidade'])\n"
      ],
      "metadata": {
        "id": "NqTVW625Znrf"
      },
      "execution_count": null,
      "outputs": []
    },
    {
      "cell_type": "markdown",
      "source": [
        "O algoritmo acima classifica cada linha do DataFrame como uma viagem aceita (1) ou não aceita (0)"
      ],
      "metadata": {
        "id": "S2Wv57XK1KC0"
      }
    },
    {
      "cell_type": "code",
      "source": [
        "df_sintetico.to_csv('data_synthetic_psicometric_decision.csv', index=False)"
      ],
      "metadata": {
        "id": "ZRnfodPgZqTz"
      },
      "execution_count": null,
      "outputs": []
    },
    {
      "cell_type": "code",
      "source": [
        "counts = df_sintetico['aceita_viagem'].value_counts()\n",
        "print(counts)"
      ],
      "metadata": {
        "colab": {
          "base_uri": "https://localhost:8080/"
        },
        "id": "r9BqZGZzi3FN",
        "outputId": "7926a81e-acbe-4fb9-fbc5-3eaf3c43179b"
      },
      "execution_count": null,
      "outputs": [
        {
          "output_type": "stream",
          "name": "stdout",
          "text": [
            "1    9828\n",
            "0     172\n",
            "Name: aceita_viagem, dtype: int64\n"
          ]
        }
      ]
    },
    {
      "cell_type": "markdown",
      "source": [
        "Note que, das 10000 viagens artificiais, 172 não seriam aceitas! Para determinar a precisão, em relação ao mundo real, pode-se utilizar outras técnicas como as GANs, que são arquiteturas de redes gerativas adversárias. Tais metodologias serão abordadas ao longo do continuado processo de desenvolvimento do modelo de dados sintéticos e do modelo de automação em si."
      ],
      "metadata": {
        "id": "h34xbPau1Ojo"
      }
    },
    {
      "cell_type": "code",
      "source": [
        "df_sintetico.head()"
      ],
      "metadata": {
        "colab": {
          "base_uri": "https://localhost:8080/",
          "height": 206
        },
        "id": "kRnzGuCAjoH5",
        "outputId": "336c3ec4-bc3a-4635-e852-395bcc17c484"
      },
      "execution_count": null,
      "outputs": [
        {
          "output_type": "execute_result",
          "data": {
            "text/plain": [
              "     distancia     valor  dia_da_semana  hora  custo_oportunidade  \\\n",
              "0     9.633430  0.610546            2.0   6.0            0.162787   \n",
              "1  -251.431724  0.572776            4.0  19.0            0.049081   \n",
              "2  -377.606184  0.479722            1.0  21.0            0.106013   \n",
              "3  -536.806868  0.604373            3.0  21.0            0.090123   \n",
              "4 -2241.577792  0.621582            0.0   0.0            0.204645   \n",
              "\n",
              "   aceita_viagem  \n",
              "0              1  \n",
              "1              1  \n",
              "2              1  \n",
              "3              1  \n",
              "4              1  "
            ],
            "text/html": [
              "\n",
              "  <div id=\"df-8c32d985-51f4-4667-bc42-6582f5368914\">\n",
              "    <div class=\"colab-df-container\">\n",
              "      <div>\n",
              "<style scoped>\n",
              "    .dataframe tbody tr th:only-of-type {\n",
              "        vertical-align: middle;\n",
              "    }\n",
              "\n",
              "    .dataframe tbody tr th {\n",
              "        vertical-align: top;\n",
              "    }\n",
              "\n",
              "    .dataframe thead th {\n",
              "        text-align: right;\n",
              "    }\n",
              "</style>\n",
              "<table border=\"1\" class=\"dataframe\">\n",
              "  <thead>\n",
              "    <tr style=\"text-align: right;\">\n",
              "      <th></th>\n",
              "      <th>distancia</th>\n",
              "      <th>valor</th>\n",
              "      <th>dia_da_semana</th>\n",
              "      <th>hora</th>\n",
              "      <th>custo_oportunidade</th>\n",
              "      <th>aceita_viagem</th>\n",
              "    </tr>\n",
              "  </thead>\n",
              "  <tbody>\n",
              "    <tr>\n",
              "      <th>0</th>\n",
              "      <td>9.633430</td>\n",
              "      <td>0.610546</td>\n",
              "      <td>2.0</td>\n",
              "      <td>6.0</td>\n",
              "      <td>0.162787</td>\n",
              "      <td>1</td>\n",
              "    </tr>\n",
              "    <tr>\n",
              "      <th>1</th>\n",
              "      <td>-251.431724</td>\n",
              "      <td>0.572776</td>\n",
              "      <td>4.0</td>\n",
              "      <td>19.0</td>\n",
              "      <td>0.049081</td>\n",
              "      <td>1</td>\n",
              "    </tr>\n",
              "    <tr>\n",
              "      <th>2</th>\n",
              "      <td>-377.606184</td>\n",
              "      <td>0.479722</td>\n",
              "      <td>1.0</td>\n",
              "      <td>21.0</td>\n",
              "      <td>0.106013</td>\n",
              "      <td>1</td>\n",
              "    </tr>\n",
              "    <tr>\n",
              "      <th>3</th>\n",
              "      <td>-536.806868</td>\n",
              "      <td>0.604373</td>\n",
              "      <td>3.0</td>\n",
              "      <td>21.0</td>\n",
              "      <td>0.090123</td>\n",
              "      <td>1</td>\n",
              "    </tr>\n",
              "    <tr>\n",
              "      <th>4</th>\n",
              "      <td>-2241.577792</td>\n",
              "      <td>0.621582</td>\n",
              "      <td>0.0</td>\n",
              "      <td>0.0</td>\n",
              "      <td>0.204645</td>\n",
              "      <td>1</td>\n",
              "    </tr>\n",
              "  </tbody>\n",
              "</table>\n",
              "</div>\n",
              "      <button class=\"colab-df-convert\" onclick=\"convertToInteractive('df-8c32d985-51f4-4667-bc42-6582f5368914')\"\n",
              "              title=\"Convert this dataframe to an interactive table.\"\n",
              "              style=\"display:none;\">\n",
              "        \n",
              "  <svg xmlns=\"http://www.w3.org/2000/svg\" height=\"24px\"viewBox=\"0 0 24 24\"\n",
              "       width=\"24px\">\n",
              "    <path d=\"M0 0h24v24H0V0z\" fill=\"none\"/>\n",
              "    <path d=\"M18.56 5.44l.94 2.06.94-2.06 2.06-.94-2.06-.94-.94-2.06-.94 2.06-2.06.94zm-11 1L8.5 8.5l.94-2.06 2.06-.94-2.06-.94L8.5 2.5l-.94 2.06-2.06.94zm10 10l.94 2.06.94-2.06 2.06-.94-2.06-.94-.94-2.06-.94 2.06-2.06.94z\"/><path d=\"M17.41 7.96l-1.37-1.37c-.4-.4-.92-.59-1.43-.59-.52 0-1.04.2-1.43.59L10.3 9.45l-7.72 7.72c-.78.78-.78 2.05 0 2.83L4 21.41c.39.39.9.59 1.41.59.51 0 1.02-.2 1.41-.59l7.78-7.78 2.81-2.81c.8-.78.8-2.07 0-2.86zM5.41 20L4 18.59l7.72-7.72 1.47 1.35L5.41 20z\"/>\n",
              "  </svg>\n",
              "      </button>\n",
              "      \n",
              "  <style>\n",
              "    .colab-df-container {\n",
              "      display:flex;\n",
              "      flex-wrap:wrap;\n",
              "      gap: 12px;\n",
              "    }\n",
              "\n",
              "    .colab-df-convert {\n",
              "      background-color: #E8F0FE;\n",
              "      border: none;\n",
              "      border-radius: 50%;\n",
              "      cursor: pointer;\n",
              "      display: none;\n",
              "      fill: #1967D2;\n",
              "      height: 32px;\n",
              "      padding: 0 0 0 0;\n",
              "      width: 32px;\n",
              "    }\n",
              "\n",
              "    .colab-df-convert:hover {\n",
              "      background-color: #E2EBFA;\n",
              "      box-shadow: 0px 1px 2px rgba(60, 64, 67, 0.3), 0px 1px 3px 1px rgba(60, 64, 67, 0.15);\n",
              "      fill: #174EA6;\n",
              "    }\n",
              "\n",
              "    [theme=dark] .colab-df-convert {\n",
              "      background-color: #3B4455;\n",
              "      fill: #D2E3FC;\n",
              "    }\n",
              "\n",
              "    [theme=dark] .colab-df-convert:hover {\n",
              "      background-color: #434B5C;\n",
              "      box-shadow: 0px 1px 3px 1px rgba(0, 0, 0, 0.15);\n",
              "      filter: drop-shadow(0px 1px 2px rgba(0, 0, 0, 0.3));\n",
              "      fill: #FFFFFF;\n",
              "    }\n",
              "  </style>\n",
              "\n",
              "      <script>\n",
              "        const buttonEl =\n",
              "          document.querySelector('#df-8c32d985-51f4-4667-bc42-6582f5368914 button.colab-df-convert');\n",
              "        buttonEl.style.display =\n",
              "          google.colab.kernel.accessAllowed ? 'block' : 'none';\n",
              "\n",
              "        async function convertToInteractive(key) {\n",
              "          const element = document.querySelector('#df-8c32d985-51f4-4667-bc42-6582f5368914');\n",
              "          const dataTable =\n",
              "            await google.colab.kernel.invokeFunction('convertToInteractive',\n",
              "                                                     [key], {});\n",
              "          if (!dataTable) return;\n",
              "\n",
              "          const docLinkHtml = 'Like what you see? Visit the ' +\n",
              "            '<a target=\"_blank\" href=https://colab.research.google.com/notebooks/data_table.ipynb>data table notebook</a>'\n",
              "            + ' to learn more about interactive tables.';\n",
              "          element.innerHTML = '';\n",
              "          dataTable['output_type'] = 'display_data';\n",
              "          await google.colab.output.renderOutput(dataTable, element);\n",
              "          const docLink = document.createElement('div');\n",
              "          docLink.innerHTML = docLinkHtml;\n",
              "          element.appendChild(docLink);\n",
              "        }\n",
              "      </script>\n",
              "    </div>\n",
              "  </div>\n",
              "  "
            ]
          },
          "metadata": {},
          "execution_count": 70
        }
      ]
    },
    {
      "cell_type": "markdown",
      "source": [
        "*Abaixo, dataset sintético*\n",
        "\n",
        "[data_synthetic_psicometric_decision.csv](https://drive.google.com/file/d/1xDHeVbTeglgjV5WMJyhXLXyMOgPAojBQ/view?usp=sharing)"
      ],
      "metadata": {
        "id": "lzZgMV-E8yIM"
      }
    },
    {
      "cell_type": "markdown",
      "source": [
        "# Referências\n",
        "\n",
        "https://bdm.unb.br/bitstream/10483/16710/1/2016_RafaelaBallianaDeVasconcelos_tcc.pdf\n",
        "\n",
        "http://olivalab.mit.edu/\n",
        "\n",
        "https://www.kaggle.com/code/tilii7/create-synthetic-data-with-similar-properties/script\n",
        "\n",
        "https://www.kaggle.com/code/alincijov/stocks-generate-synthetic-data-timegan\n",
        "\n",
        "https://www.kaggle.com/general/343024\n",
        "\n",
        "https://www.media.mit.edu/posts/the-human-psychome/\n",
        "\n",
        "https://www.media.mit.edu/groups/viral-communications/overview/"
      ],
      "metadata": {
        "id": "-4hSKoTsww42"
      }
    }
  ]
}